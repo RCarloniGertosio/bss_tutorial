{
 "cells": [
  {
   "cell_type": "markdown",
   "metadata": {},
   "source": [
    "# Blind source separation tutorial\n",
    "\n",
    "## Context, applications\n",
    "\n",
    "What kind of data ? \n",
    "\n",
    "- cocktail party problem: recover each audio source from mixtures of them\n",
    "<img src=\"./img/cocktail_party.png\" width=\"500\"/>\n",
    "\n",
    "- extraction of a foetus' pulse:\n",
    "<img src=\"./img/ecg.png\"/>\n",
    "\n",
    "- hyperspectral imaging: decompose the data into elementary components related to a signal spectral signature (water, carbone dioxyde, etc.)\n",
    "<img src=\"./img/hypspec.jpg\"/>\n",
    "\n",
    "- cosmology: recover cosmological signals (e.g. Cosmic Microwave Background, Epoch of the Reionization signal) from multi-wavelength measures\n",
    " - observations:\n",
    "<img src=\"./img/planck.png\"/>\n",
    " - results:\n",
    "<img src=\"./img/planck_res.png\"/>\n",
    "\n",
    "\n",
    "## Modeling\n",
    "\n",
    "<img src=\"./img/cocktail_party_model.png\"/>\n",
    "\n",
    "Throughout this tutorial, we assume a <b>linear mixture model</b>:\n",
    "\n",
    "$$\\mathbf{X} = \\sum_{k=1}^{n} \\mathbf{A}^k \\mathbf{S}_k + \\mathbf{N} = \\mathbf{AS} + \\mathbf{N}.$$\n",
    "\n",
    "<img src=\"./img/mixture.png\"/>\n",
    "\n",
    "The number of sources is assumed to be known, and smaller than the number of observations. The noise is Gaussian, independant and identically distributed.\n",
    "\n",
    "The objective is to jointly estimate $\\mathbf{A}$ and $\\mathbf{S}$ from $\\mathbf{X}$."
   ]
  },
  {
   "cell_type": "markdown",
   "metadata": {},
   "source": [
    "What cannot be avoided:\n",
    "- permutations between the sources: $\\mathbf{X} = \\sum_{k=1}^{n} \\mathbf{A}^k \\mathbf{S}_k = \\sum_{k=1}^{n} \\mathbf{A}^{\\sigma(k)} \\mathbf{S}_{\\sigma(k)}$,\n",
    "- scaling issues $\\mathbf{X} = \\sum_{k=1}^{n} \\mathbf{A}^k \\mathbf{S}_k = \\sum_{k=1}^{n} (\\lambda_k \\mathbf{A}^{k}) (\\mathbf{S}_{k}/\\lambda_k)$.\n",
    "\n",
    "These limitations will be illustrated later in this tutorial.\n",
    "\n",
    "<b>Next:</b> [2. Principal Component Analysis](./2_Principal_Component_Analysis.ipynb)"
   ]
  }
 ],
 "metadata": {
  "kernelspec": {
   "display_name": "Python 3",
   "language": "python",
   "name": "python3"
  },
  "language_info": {
   "codemirror_mode": {
    "name": "ipython",
    "version": 3
   },
   "file_extension": ".py",
   "mimetype": "text/x-python",
   "name": "python",
   "nbconvert_exporter": "python",
   "pygments_lexer": "ipython3",
   "version": "3.7.6"
  }
 },
 "nbformat": 4,
 "nbformat_minor": 4
}
